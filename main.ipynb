{
 "cells": [
  {
   "cell_type": "code",
   "execution_count": null,
   "metadata": {},
   "outputs": [],
   "source": [
    "%load_ext autoreload\n",
    "\n",
    "# Кастомная библиотека, созданная для хакатона - модкли лежат в папке src\n",
    "from bank_schedule import dataclaster, optim, output, check_conditions\n"
   ]
  },
  {
   "attachments": {},
   "cell_type": "markdown",
   "metadata": {},
   "source": [
    "# Загрузка данных"
   ]
  },
  {
   "cell_type": "code",
   "execution_count": null,
   "metadata": {},
   "outputs": [],
   "source": [
    "# В эту папку требуется положить 3 файла:\n",
    "# Params.xlsx - набор основных констант(лежит в bank_schedule/data/raw)\n",
    "# terminal_data_hackathon v4.xlsx - Как в задании\n",
    "# times v4.csv - Как в задании\n",
    "PATH_TO_DATA_FOLDER = '/Users/sykuznetsov/Documents/GitHub/bank_schedule/data/raw'\n",
    "\n",
    "# Интерфейс для доступа к данным\n",
    "data = dataclaster.DataClaster(PATH_TO_DATA_FOLDER)"
   ]
  },
  {
   "attachments": {},
   "cell_type": "markdown",
   "metadata": {},
   "source": [
    "# Определение количества машин"
   ]
  },
  {
   "attachments": {},
   "cell_type": "markdown",
   "metadata": {},
   "source": [
    "## Прогноз"
   ]
  },
  {
   "attachments": {},
   "cell_type": "markdown",
   "metadata": {},
   "source": [
    "## Определние кол-ва машин"
   ]
  },
  {
   "cell_type": "code",
   "execution_count": null,
   "metadata": {},
   "outputs": [],
   "source": [
    "cars_quant = 6"
   ]
  },
  {
   "attachments": {},
   "cell_type": "markdown",
   "metadata": {},
   "source": [
    "# Эвристическая оптимизация"
   ]
  },
  {
   "attachments": {},
   "cell_type": "markdown",
   "metadata": {},
   "source": []
  },
  {
   "attachments": {},
   "cell_type": "markdown",
   "metadata": {},
   "source": [
    "# Подготовка отчета по эвристической оптимизации"
   ]
  },
  {
   "cell_type": "code",
   "execution_count": null,
   "metadata": {},
   "outputs": [],
   "source": []
  },
  {
   "cell_type": "code",
   "execution_count": null,
   "metadata": {},
   "outputs": [],
   "source": [
    "df_routes = output.find_routes_check_2(obj, data) # проверка ограничений на время (с 8 утра до 8 вечера) + составления маршрутов для отчета\n",
    "df_opt_result = df_routes[['TID','date','auto']]\n",
    "\n",
    "check_conditions.condition_max_days_inc(df_opt_result,  data)\n",
    "check_conditions.check_over_balance(df_opt_result,  data)\n",
    "\n",
    "df_money_sum = output.find_ATM_balance_evening(df_opt_result, data) \n",
    "df_money_sum_morning = output.find_ATM_balance_morning(df_opt_result, data) \n",
    "all_cost_by_days, all_cost_inc, df_fond = output.find_all_cost(df_money_sum, df_opt_result, data) \n",
    "\n",
    "# создание отчета\n",
    "output.postprocessing_and_make_excel('result_6_clusters.xlsx', df_money_sum_morning, df_fond, all_cost_inc, all_cost_by_days, df_routes)"
   ]
  },
  {
   "attachments": {},
   "cell_type": "markdown",
   "metadata": {},
   "source": [
    "# Кластеризация"
   ]
  },
  {
   "cell_type": "code",
   "execution_count": null,
   "metadata": {},
   "outputs": [],
   "source": [
    "data.run_cluster(0.01, cars_quant)\n",
    "\n",
    "# Каринка кластеризации"
   ]
  },
  {
   "attachments": {},
   "cell_type": "markdown",
   "metadata": {},
   "source": [
    "# MILP оптимизация"
   ]
  },
  {
   "cell_type": "code",
   "execution_count": null,
   "metadata": {},
   "outputs": [],
   "source": [
    "%autoreload 2\n",
    "\n",
    "# Решение может искаться долго(до 6 часов),но зато показывает в средним результаты лучше, чем у эвристической оптимизации\n",
    "\n",
    "milp_optim_results = []\n",
    "for cluster_num in range(cars_quant):\n",
    "    presolved_models, presolved_results = optim.run_milp_optim(data, date(2022, 9, 1), 2, cluster_num)\n",
    "    milp_optim_results.append((presolved_models, presolved_results, cluster_num))\n"
   ]
  },
  {
   "attachments": {},
   "cell_type": "markdown",
   "metadata": {},
   "source": [
    "# Подготовка отчета по MILP оптимизации"
   ]
  },
  {
   "attachments": {},
   "cell_type": "markdown",
   "metadata": {},
   "source": [
    "## Проверка ограничений"
   ]
  },
  {
   "cell_type": "code",
   "execution_count": null,
   "metadata": {},
   "outputs": [],
   "source": [
    "# Вынимаем маршруты из внутреннего представления\n",
    "# Проверка ограничений на время (с 8 утра до 8 вечера) + составления маршрутов для отчета\n",
    "df_routes = output.find_routes_check(milp_optim_results, data)\n",
    "df_opt_result = df_routes[['TID','date','auto']]\n",
    "\n",
    "# Проверка ограничения на инкассации каждые 14 дней\n",
    "check_conditions.condition_max_days_inc(df_opt_result,  data)\n",
    "\n",
    "# Проверка ограничения на максимальную допустимую сумму в банкоматах\n",
    "check_conditions.check_over_balance(df_opt_result,  data)"
   ]
  },
  {
   "attachments": {},
   "cell_type": "markdown",
   "metadata": {},
   "source": [
    "## Подготовка отчета"
   ]
  },
  {
   "cell_type": "code",
   "execution_count": null,
   "metadata": {},
   "outputs": [],
   "source": [
    "%autoreload 2\n",
    "# Создание отчета\n",
    "df_money_sum = output.find_ATM_balance_evening(df_opt_result, data) \n",
    "df_money_sum_morning = output.find_ATM_balance_morning(df_opt_result, data) \n",
    "all_cost_by_days, all_cost_inc, df_fond = output.find_all_cost(df_money_sum, df_opt_result, data) \n",
    "\n",
    "output.postprocessing_and_make_excel('MILP optimisation.xlsx', df_money_sum_morning, df_fond, all_cost_inc, all_cost_by_days, df_routes)"
   ]
  }
 ],
 "metadata": {
  "kernelspec": {
   "display_name": "Python 3.9.4 64-bit ('sheremetievo_hack_venv')",
   "metadata": {
    "interpreter": {
     "hash": "16d33e8745b8bc3258962446a0a677631b939962492e4be4006d240f06bffa92"
    }
   },
   "name": "python3"
  },
  "language_info": {
   "codemirror_mode": {
    "name": "ipython",
    "version": 3
   },
   "file_extension": ".py",
   "mimetype": "text/x-python",
   "name": "python",
   "nbconvert_exporter": "python",
   "pygments_lexer": "ipython3",
   "version": "3.10.3"
  },
  "orig_nbformat": 4
 },
 "nbformat": 4,
 "nbformat_minor": 2
}
